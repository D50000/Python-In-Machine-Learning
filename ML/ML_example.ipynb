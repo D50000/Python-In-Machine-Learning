{
 "cells": [
  {
   "cell_type": "markdown",
   "metadata": {},
   "source": [
    "# Case2 Machine learning and stock selection"
   ]
  },
  {
   "cell_type": "markdown",
   "metadata": {},
   "source": [
    "### Two consideratons:\n"
   ]
  },
  {
   "cell_type": "markdown",
   "metadata": {},
   "source": [
    "#### 1 How to select stocks using machine learning?\n"
   ]
  },
  {
   "cell_type": "markdown",
   "metadata": {},
   "source": [
    "#### 2. How to evaluate the performance of this selection strategy?"
   ]
  },
  {
   "cell_type": "markdown",
   "metadata": {},
   "source": []
  },
  {
   "cell_type": "markdown",
   "metadata": {},
   "source": [
    "# Outline\n",
    "## 1. Data preprocessing\n",
    "## 2. Build the SVM model\n",
    "## 3. Select stock every year and calculate the cumulative return"
   ]
  },
  {
   "cell_type": "code",
   "execution_count": 1,
   "metadata": {},
   "outputs": [],
   "source": [
    "import pandas as pd\n",
    "import numpy as np"
   ]
  },
  {
   "cell_type": "markdown",
   "metadata": {},
   "source": [
    "## 1. Data preprocessing"
   ]
  },
  {
   "cell_type": "markdown",
   "metadata": {},
   "source": [
    "### 1.1 financial indicators"
   ]
  },
  {
   "cell_type": "markdown",
   "metadata": {},
   "source": [
    "![frame1](table1.png)"
   ]
  },
  {
   "cell_type": "code",
   "execution_count": 2,
   "metadata": {},
   "outputs": [
    {
     "name": "stderr",
     "output_type": "stream",
     "text": [
      "C:\\ProgramData\\Anaconda3\\lib\\site-packages\\IPython\\core\\interactiveshell.py:3049: DtypeWarning: Columns (14) have mixed types. Specify dtype option on import or set low_memory=False.\n",
      "  interactivity=interactivity, compiler=compiler, result=result)\n"
     ]
    }
   ],
   "source": [
    "findata = pd.read_csv('annualReport.csv')"
   ]
  },
  {
   "cell_type": "code",
   "execution_count": 3,
   "metadata": {},
   "outputs": [
    {
     "data": {
      "text/html": [
       "<div>\n",
       "<style scoped>\n",
       "    .dataframe tbody tr th:only-of-type {\n",
       "        vertical-align: middle;\n",
       "    }\n",
       "\n",
       "    .dataframe tbody tr th {\n",
       "        vertical-align: top;\n",
       "    }\n",
       "\n",
       "    .dataframe thead th {\n",
       "        text-align: right;\n",
       "    }\n",
       "</style>\n",
       "<table border=\"1\" class=\"dataframe\">\n",
       "  <thead>\n",
       "    <tr style=\"text-align: right;\">\n",
       "      <th></th>\n",
       "      <th>Unnamed: 0</th>\n",
       "      <th>CO_ID</th>\n",
       "      <th>CoName</th>\n",
       "      <th>YYYY/MM</th>\n",
       "      <th>Quarter</th>\n",
       "      <th>consolidation</th>\n",
       "      <th>Month</th>\n",
       "      <th>ROA(B)-EBITDA%_Consol</th>\n",
       "      <th>ROE(B)-NI ExDisposal_Consol</th>\n",
       "      <th>Net Sales_Consol</th>\n",
       "      <th>...</th>\n",
       "      <th>Total Current Assets_Consol</th>\n",
       "      <th>Total Current Liab._Consol</th>\n",
       "      <th>Inventories_Consol</th>\n",
       "      <th>Inventory Turnover_Consol</th>\n",
       "      <th>YOY%-Oper.Income_Consol</th>\n",
       "      <th>YOY%-Net Income_Consol</th>\n",
       "      <th>A/R &amp; N/R Turnover_Consol</th>\n",
       "      <th>P/E_Consol</th>\n",
       "      <th>P/B_Consol</th>\n",
       "      <th>PSR_Consol</th>\n",
       "    </tr>\n",
       "  </thead>\n",
       "  <tbody>\n",
       "    <tr>\n",
       "      <th>0</th>\n",
       "      <td>0</td>\n",
       "      <td>000116</td>\n",
       "      <td>Jih Sun Securities</td>\n",
       "      <td>2000/12</td>\n",
       "      <td>4</td>\n",
       "      <td>N</td>\n",
       "      <td>12</td>\n",
       "      <td>7.80</td>\n",
       "      <td>11.68</td>\n",
       "      <td>8326205</td>\n",
       "      <td>...</td>\n",
       "      <td>27751447</td>\n",
       "      <td>13850446</td>\n",
       "      <td>nan</td>\n",
       "      <td>nan</td>\n",
       "      <td>1.43</td>\n",
       "      <td>-21.22</td>\n",
       "      <td>12.56</td>\n",
       "      <td>6.62</td>\n",
       "      <td>0.73</td>\n",
       "      <td>1.65</td>\n",
       "    </tr>\n",
       "    <tr>\n",
       "      <th>1</th>\n",
       "      <td>1</td>\n",
       "      <td>000930</td>\n",
       "      <td>Hua Nan Sec.</td>\n",
       "      <td>2000/12</td>\n",
       "      <td>4</td>\n",
       "      <td>N</td>\n",
       "      <td>12</td>\n",
       "      <td>0.61</td>\n",
       "      <td>-7.90</td>\n",
       "      <td>2845729</td>\n",
       "      <td>...</td>\n",
       "      <td>10582023</td>\n",
       "      <td>8088532</td>\n",
       "      <td>nan</td>\n",
       "      <td>nan</td>\n",
       "      <td>-90.92</td>\n",
       "      <td>-206.51</td>\n",
       "      <td>180.43</td>\n",
       "      <td>nan</td>\n",
       "      <td>1.01</td>\n",
       "      <td>2.38</td>\n",
       "    </tr>\n",
       "    <tr>\n",
       "      <th>2</th>\n",
       "      <td>2</td>\n",
       "      <td>000960</td>\n",
       "      <td>Fubon Securities</td>\n",
       "      <td>2000/12</td>\n",
       "      <td>4</td>\n",
       "      <td>N</td>\n",
       "      <td>12</td>\n",
       "      <td>5.52</td>\n",
       "      <td>6.32</td>\n",
       "      <td>8561607</td>\n",
       "      <td>...</td>\n",
       "      <td>42628400</td>\n",
       "      <td>21287389</td>\n",
       "      <td>nan</td>\n",
       "      <td>nan</td>\n",
       "      <td>-23.89</td>\n",
       "      <td>3.28</td>\n",
       "      <td>11.34</td>\n",
       "      <td>15.05</td>\n",
       "      <td>0.76</td>\n",
       "      <td>2.81</td>\n",
       "    </tr>\n",
       "    <tr>\n",
       "      <th>3</th>\n",
       "      <td>3</td>\n",
       "      <td>0009A0</td>\n",
       "      <td>SinoPac Securities</td>\n",
       "      <td>2000/12</td>\n",
       "      <td>4</td>\n",
       "      <td>N</td>\n",
       "      <td>12</td>\n",
       "      <td>6.58</td>\n",
       "      <td>8.71</td>\n",
       "      <td>5844250</td>\n",
       "      <td>...</td>\n",
       "      <td>27691589</td>\n",
       "      <td>15926358</td>\n",
       "      <td>nan</td>\n",
       "      <td>nan</td>\n",
       "      <td>21.15</td>\n",
       "      <td>-3.60</td>\n",
       "      <td>170.93</td>\n",
       "      <td>7.67</td>\n",
       "      <td>0.60</td>\n",
       "      <td>1.88</td>\n",
       "    </tr>\n",
       "    <tr>\n",
       "      <th>4</th>\n",
       "      <td>4</td>\n",
       "      <td>1101</td>\n",
       "      <td>Taiwan Cement</td>\n",
       "      <td>2000/12</td>\n",
       "      <td>4</td>\n",
       "      <td>Y</td>\n",
       "      <td>12</td>\n",
       "      <td>1.79</td>\n",
       "      <td>-2.80</td>\n",
       "      <td>28381485</td>\n",
       "      <td>...</td>\n",
       "      <td>16474847</td>\n",
       "      <td>18353243</td>\n",
       "      <td>1958077</td>\n",
       "      <td>13.42</td>\n",
       "      <td>-24.54</td>\n",
       "      <td>-48.95</td>\n",
       "      <td>6.71</td>\n",
       "      <td>nan</td>\n",
       "      <td>0.77</td>\n",
       "      <td>1.28</td>\n",
       "    </tr>\n",
       "  </tbody>\n",
       "</table>\n",
       "<p>5 rows × 25 columns</p>\n",
       "</div>"
      ],
      "text/plain": [
       "   Unnamed: 0    CO_ID              CoName  YYYY/MM  Quarter consolidation  \\\n",
       "0           0  000116   Jih Sun Securities  2000/12        4             N   \n",
       "1           1  000930        Hua Nan Sec.   2000/12        4             N   \n",
       "2           2  000960     Fubon Securities  2000/12        4             N   \n",
       "3           3  0009A0   SinoPac Securities  2000/12        4             N   \n",
       "4           4  1101          Taiwan Cement  2000/12        4             Y   \n",
       "\n",
       "   Month ROA(B)-EBITDA%_Consol ROE(B)-NI ExDisposal_Consol Net Sales_Consol  \\\n",
       "0     12                  7.80                       11.68          8326205   \n",
       "1     12                  0.61                       -7.90          2845729   \n",
       "2     12                  5.52                        6.32          8561607   \n",
       "3     12                  6.58                        8.71          5844250   \n",
       "4     12                  1.79                       -2.80         28381485   \n",
       "\n",
       "   ... Total Current Assets_Consol Total Current Liab._Consol  \\\n",
       "0  ...                    27751447                   13850446   \n",
       "1  ...                    10582023                    8088532   \n",
       "2  ...                    42628400                   21287389   \n",
       "3  ...                    27691589                   15926358   \n",
       "4  ...                    16474847                   18353243   \n",
       "\n",
       "  Inventories_Consol Inventory Turnover_Consol YOY%-Oper.Income_Consol  \\\n",
       "0                nan                       nan                    1.43   \n",
       "1                nan                       nan                  -90.92   \n",
       "2                nan                       nan                  -23.89   \n",
       "3                nan                       nan                   21.15   \n",
       "4            1958077                     13.42                  -24.54   \n",
       "\n",
       "   YOY%-Net Income_Consol A/R & N/R Turnover_Consol    P/E_Consol  \\\n",
       "0                  -21.22                     12.56          6.62   \n",
       "1                 -206.51                    180.43           nan   \n",
       "2                    3.28                     11.34         15.05   \n",
       "3                   -3.60                    170.93          7.67   \n",
       "4                  -48.95                      6.71           nan   \n",
       "\n",
       "     P/B_Consol    PSR_Consol  \n",
       "0          0.73          1.65  \n",
       "1          1.01          2.38  \n",
       "2          0.76          2.81  \n",
       "3          0.60          1.88  \n",
       "4          0.77          1.28  \n",
       "\n",
       "[5 rows x 25 columns]"
      ]
     },
     "execution_count": 3,
     "metadata": {},
     "output_type": "execute_result"
    }
   ],
   "source": [
    "findata.head()"
   ]
  },
  {
   "cell_type": "code",
   "execution_count": 4,
   "metadata": {},
   "outputs": [
    {
     "data": {
      "text/plain": [
       "Index(['Unnamed: 0', 'CO_ID', 'CoName', 'YYYY/MM', 'Quarter', 'consolidation',\n",
       "       'Month', 'ROA(B)-EBITDA%_Consol', 'ROE(B)-NI ExDisposal_Consol',\n",
       "       'Net Sales_Consol', 'Operating Income_Consol', 'Net Income_Consol',\n",
       "       'Income Tax Expense_Consol', 'Total Liabilities_Consol',\n",
       "       'Total Equity_Consol', 'Total Current Assets_Consol',\n",
       "       'Total Current Liab._Consol', 'Inventories_Consol',\n",
       "       'Inventory Turnover_Consol', 'YOY%-Oper.Income_Consol',\n",
       "       'YOY%-Net Income_Consol', 'A/R & N/R Turnover_Consol', 'P/E_Consol',\n",
       "       'P/B_Consol', 'PSR_Consol'],\n",
       "      dtype='object')"
      ]
     },
     "execution_count": 4,
     "metadata": {},
     "output_type": "execute_result"
    }
   ],
   "source": [
    "findata.columns"
   ]
  },
  {
   "cell_type": "code",
   "execution_count": 5,
   "metadata": {},
   "outputs": [],
   "source": [
    "findata = findata.loc[findata.consolidation=='Y']"
   ]
  },
  {
   "cell_type": "code",
   "execution_count": 6,
   "metadata": {},
   "outputs": [],
   "source": [
    "findata.index = pd.to_datetime(findata['YYYY/MM'])"
   ]
  },
  {
   "cell_type": "code",
   "execution_count": 7,
   "metadata": {},
   "outputs": [],
   "source": [
    "findata['year'] = findata.index.year"
   ]
  },
  {
   "cell_type": "code",
   "execution_count": 8,
   "metadata": {},
   "outputs": [],
   "source": [
    "findata.iloc[:,7:] = findata.iloc[:,7:].astype(np.float)"
   ]
  },
  {
   "cell_type": "code",
   "execution_count": 9,
   "metadata": {},
   "outputs": [],
   "source": [
    "findata2 = findata[['CO_ID','year','P/E_Consol','P/B_Consol', 'PSR_Consol', \n",
    "                    'ROA(B)-EBITDA%_Consol', 'ROE(B)-NI ExDisposal_Consol',\n",
    "                      'Inventory Turnover_Consol', 'YOY%-Oper.Income_Consol',\n",
    "       'YOY%-Net Income_Consol', 'A/R & N/R Turnover_Consol']]"
   ]
  },
  {
   "cell_type": "code",
   "execution_count": 10,
   "metadata": {},
   "outputs": [
    {
     "name": "stderr",
     "output_type": "stream",
     "text": [
      "C:\\ProgramData\\Anaconda3\\lib\\site-packages\\pandas\\core\\indexing.py:362: SettingWithCopyWarning: \n",
      "A value is trying to be set on a copy of a slice from a DataFrame.\n",
      "Try using .loc[row_indexer,col_indexer] = value instead\n",
      "\n",
      "See the caveats in the documentation: http://pandas.pydata.org/pandas-docs/stable/indexing.html#indexing-view-versus-copy\n",
      "  self.obj[key] = _infer_fill_value(value)\n",
      "C:\\ProgramData\\Anaconda3\\lib\\site-packages\\pandas\\core\\indexing.py:543: SettingWithCopyWarning: \n",
      "A value is trying to be set on a copy of a slice from a DataFrame.\n",
      "Try using .loc[row_indexer,col_indexer] = value instead\n",
      "\n",
      "See the caveats in the documentation: http://pandas.pydata.org/pandas-docs/stable/indexing.html#indexing-view-versus-copy\n",
      "  self.obj[item] = s\n"
     ]
    }
   ],
   "source": [
    "findata2.loc[:,'OPM']=findata.loc[:,'Operating Income_Consol']/findata.loc[:,'Net Sales_Consol']"
   ]
  },
  {
   "cell_type": "code",
   "execution_count": 11,
   "metadata": {},
   "outputs": [],
   "source": [
    "findata2.loc[:,'NPM']=findata.loc[:,'Net Income_Consol']/findata.loc[:,'Net Sales_Consol']"
   ]
  },
  {
   "cell_type": "code",
   "execution_count": 12,
   "metadata": {},
   "outputs": [],
   "source": [
    "findata2.loc[:,'DER']=findata.loc[:,'Total Liabilities_Consol']/findata.loc[:,'Total Equity_Consol']"
   ]
  },
  {
   "cell_type": "code",
   "execution_count": 13,
   "metadata": {},
   "outputs": [],
   "source": [
    "findata2.loc[:,'CR']=findata.loc[:,'Total Current Assets_Consol']/findata.loc[:,'Total Current Liab._Consol']"
   ]
  },
  {
   "cell_type": "code",
   "execution_count": 14,
   "metadata": {},
   "outputs": [],
   "source": [
    "findata2.loc[:,'QR']=(findata.loc[:,'Total Current Assets_Consol']-findata.loc[:,'Inventories_Consol'])/findata.loc[:,'Total Current Liab._Consol']"
   ]
  },
  {
   "cell_type": "code",
   "execution_count": 15,
   "metadata": {},
   "outputs": [
    {
     "data": {
      "text/plain": [
       "(28082, 16)"
      ]
     },
     "execution_count": 15,
     "metadata": {},
     "output_type": "execute_result"
    }
   ],
   "source": [
    "findata2.shape"
   ]
  },
  {
   "cell_type": "code",
   "execution_count": 16,
   "metadata": {},
   "outputs": [
    {
     "data": {
      "text/plain": [
       "year\n",
       "2000.0     681\n",
       "2001.0     783\n",
       "2002.0     906\n",
       "2003.0    1001\n",
       "2004.0    1041\n",
       "2005.0    1402\n",
       "2006.0    1431\n",
       "2007.0    1469\n",
       "2008.0    1515\n",
       "2009.0    1555\n",
       "2010.0    1639\n",
       "2011.0    1699\n",
       "2012.0    1751\n",
       "2013.0    1816\n",
       "2014.0    1889\n",
       "2015.0    1915\n",
       "2016.0    1889\n",
       "2017.0    1872\n",
       "2018.0    1828\n",
       "dtype: int64"
      ]
     },
     "execution_count": 16,
     "metadata": {},
     "output_type": "execute_result"
    }
   ],
   "source": [
    "findata2.groupby('year').size()"
   ]
  },
  {
   "cell_type": "markdown",
   "metadata": {},
   "source": [
    "### 1.2 Stock  return"
   ]
  },
  {
   "cell_type": "code",
   "execution_count": 17,
   "metadata": {},
   "outputs": [
    {
     "name": "stderr",
     "output_type": "stream",
     "text": [
      "C:\\ProgramData\\Anaconda3\\lib\\site-packages\\IPython\\core\\interactiveshell.py:3049: DtypeWarning: Columns (0) have mixed types. Specify dtype option on import or set low_memory=False.\n",
      "  interactivity=interactivity, compiler=compiler, result=result)\n"
     ]
    }
   ],
   "source": [
    "ret = pd.read_csv('monret_00_19.csv',sep=';')"
   ]
  },
  {
   "cell_type": "code",
   "execution_count": 18,
   "metadata": {},
   "outputs": [
    {
     "data": {
      "text/html": [
       "<div>\n",
       "<style scoped>\n",
       "    .dataframe tbody tr th:only-of-type {\n",
       "        vertical-align: middle;\n",
       "    }\n",
       "\n",
       "    .dataframe tbody tr th {\n",
       "        vertical-align: top;\n",
       "    }\n",
       "\n",
       "    .dataframe thead th {\n",
       "        text-align: right;\n",
       "    }\n",
       "</style>\n",
       "<table border=\"1\" class=\"dataframe\">\n",
       "  <thead>\n",
       "    <tr style=\"text-align: right;\">\n",
       "      <th></th>\n",
       "      <th>CO_ID</th>\n",
       "      <th>CoName</th>\n",
       "      <th>Date</th>\n",
       "      <th>ROI_Month</th>\n",
       "      <th>Close_Month</th>\n",
       "    </tr>\n",
       "  </thead>\n",
       "  <tbody>\n",
       "    <tr>\n",
       "      <th>0</th>\n",
       "      <td>000116</td>\n",
       "      <td>Jih Sun Securities</td>\n",
       "      <td>2000/01</td>\n",
       "      <td>34.1774</td>\n",
       "      <td>30.78</td>\n",
       "    </tr>\n",
       "    <tr>\n",
       "      <th>1</th>\n",
       "      <td>000930</td>\n",
       "      <td>Hua Nan Sec.</td>\n",
       "      <td>2000/01</td>\n",
       "      <td>71.9151</td>\n",
       "      <td>17.41</td>\n",
       "    </tr>\n",
       "    <tr>\n",
       "      <th>2</th>\n",
       "      <td>000960</td>\n",
       "      <td>Fubon Securities</td>\n",
       "      <td>2000/01</td>\n",
       "      <td>61.3257</td>\n",
       "      <td>25.85</td>\n",
       "    </tr>\n",
       "    <tr>\n",
       "      <th>3</th>\n",
       "      <td>0009A0</td>\n",
       "      <td>SinoPac Securities</td>\n",
       "      <td>2000/01</td>\n",
       "      <td>70.7316</td>\n",
       "      <td>17.29</td>\n",
       "    </tr>\n",
       "    <tr>\n",
       "      <th>4</th>\n",
       "      <td>1101</td>\n",
       "      <td>Taiwan Cement</td>\n",
       "      <td>2000/01</td>\n",
       "      <td>18.2095</td>\n",
       "      <td>11.13</td>\n",
       "    </tr>\n",
       "  </tbody>\n",
       "</table>\n",
       "</div>"
      ],
      "text/plain": [
       "     CO_ID              CoName     Date  ROI_Month  Close_Month\n",
       "0  000116   Jih Sun Securities  2000/01    34.1774        30.78\n",
       "1  000930        Hua Nan Sec.   2000/01    71.9151        17.41\n",
       "2  000960     Fubon Securities  2000/01    61.3257        25.85\n",
       "3  0009A0   SinoPac Securities  2000/01    70.7316        17.29\n",
       "4  1101          Taiwan Cement  2000/01    18.2095        11.13"
      ]
     },
     "execution_count": 18,
     "metadata": {},
     "output_type": "execute_result"
    }
   ],
   "source": [
    "ret.head()"
   ]
  },
  {
   "cell_type": "code",
   "execution_count": 19,
   "metadata": {},
   "outputs": [],
   "source": [
    "ret.index = pd.to_datetime(ret.Date)"
   ]
  },
  {
   "cell_type": "code",
   "execution_count": 20,
   "metadata": {},
   "outputs": [],
   "source": [
    "ret.CO_ID = ret.CO_ID.astype(np.str)\n",
    "ret.ROI_Month \t = ret.ROI_Month/100"
   ]
  },
  {
   "cell_type": "code",
   "execution_count": 21,
   "metadata": {},
   "outputs": [],
   "source": [
    "stk_list = np.unique(ret.CO_ID)"
   ]
  },
  {
   "cell_type": "code",
   "execution_count": 22,
   "metadata": {},
   "outputs": [
    {
     "data": {
      "text/plain": [
       "array(['000116 ', '000930 ', '000960 ', '0009A0 ', '1101   ', '1102   ',\n",
       "       '1103   '], dtype=object)"
      ]
     },
     "execution_count": 22,
     "metadata": {},
     "output_type": "execute_result"
    }
   ],
   "source": [
    "stk_list[:7]"
   ]
  },
  {
   "cell_type": "code",
   "execution_count": 23,
   "metadata": {},
   "outputs": [
    {
     "data": {
      "text/plain": [
       "2987"
      ]
     },
     "execution_count": 23,
     "metadata": {},
     "output_type": "execute_result"
    }
   ],
   "source": [
    "len(stk_list)"
   ]
  },
  {
   "cell_type": "code",
   "execution_count": 24,
   "metadata": {},
   "outputs": [],
   "source": [
    "stkcd = '3026'"
   ]
  },
  {
   "cell_type": "code",
   "execution_count": 25,
   "metadata": {},
   "outputs": [],
   "source": [
    "ret_stk = ret.loc[ret.CO_ID==stkcd]"
   ]
  },
  {
   "cell_type": "code",
   "execution_count": 26,
   "metadata": {},
   "outputs": [
    {
     "data": {
      "text/html": [
       "<div>\n",
       "<style scoped>\n",
       "    .dataframe tbody tr th:only-of-type {\n",
       "        vertical-align: middle;\n",
       "    }\n",
       "\n",
       "    .dataframe tbody tr th {\n",
       "        vertical-align: top;\n",
       "    }\n",
       "\n",
       "    .dataframe thead th {\n",
       "        text-align: right;\n",
       "    }\n",
       "</style>\n",
       "<table border=\"1\" class=\"dataframe\">\n",
       "  <thead>\n",
       "    <tr style=\"text-align: right;\">\n",
       "      <th></th>\n",
       "      <th>CO_ID</th>\n",
       "      <th>CoName</th>\n",
       "      <th>Date</th>\n",
       "      <th>ROI_Month</th>\n",
       "      <th>Close_Month</th>\n",
       "    </tr>\n",
       "    <tr>\n",
       "      <th>Date</th>\n",
       "      <th></th>\n",
       "      <th></th>\n",
       "      <th></th>\n",
       "      <th></th>\n",
       "      <th></th>\n",
       "    </tr>\n",
       "  </thead>\n",
       "  <tbody>\n",
       "    <tr>\n",
       "      <th>2000-10-01</th>\n",
       "      <td>3026</td>\n",
       "      <td>Holy Stone</td>\n",
       "      <td>2000/10</td>\n",
       "      <td>-0.177606</td>\n",
       "      <td>36.45</td>\n",
       "    </tr>\n",
       "    <tr>\n",
       "      <th>2000-11-01</th>\n",
       "      <td>3026</td>\n",
       "      <td>Holy Stone</td>\n",
       "      <td>2000/11</td>\n",
       "      <td>-0.145541</td>\n",
       "      <td>31.15</td>\n",
       "    </tr>\n",
       "    <tr>\n",
       "      <th>2000-12-01</th>\n",
       "      <td>3026</td>\n",
       "      <td>Holy Stone</td>\n",
       "      <td>2000/12</td>\n",
       "      <td>-0.390111</td>\n",
       "      <td>19.00</td>\n",
       "    </tr>\n",
       "    <tr>\n",
       "      <th>2001-01-01</th>\n",
       "      <td>3026</td>\n",
       "      <td>Holy Stone</td>\n",
       "      <td>2001/01</td>\n",
       "      <td>1.000001</td>\n",
       "      <td>37.99</td>\n",
       "    </tr>\n",
       "    <tr>\n",
       "      <th>2001-02-01</th>\n",
       "      <td>3026</td>\n",
       "      <td>Holy Stone</td>\n",
       "      <td>2001/02</td>\n",
       "      <td>0.004505</td>\n",
       "      <td>38.17</td>\n",
       "    </tr>\n",
       "    <tr>\n",
       "      <th>2001-03-01</th>\n",
       "      <td>3026</td>\n",
       "      <td>Holy Stone</td>\n",
       "      <td>2001/03</td>\n",
       "      <td>0.291478</td>\n",
       "      <td>49.29</td>\n",
       "    </tr>\n",
       "    <tr>\n",
       "      <th>2001-04-01</th>\n",
       "      <td>3026</td>\n",
       "      <td>Holy Stone</td>\n",
       "      <td>2001/04</td>\n",
       "      <td>-0.204862</td>\n",
       "      <td>39.19</td>\n",
       "    </tr>\n",
       "    <tr>\n",
       "      <th>2001-05-01</th>\n",
       "      <td>3026</td>\n",
       "      <td>Holy Stone</td>\n",
       "      <td>2001/05</td>\n",
       "      <td>-0.235808</td>\n",
       "      <td>29.95</td>\n",
       "    </tr>\n",
       "    <tr>\n",
       "      <th>2001-06-01</th>\n",
       "      <td>3026</td>\n",
       "      <td>Holy Stone</td>\n",
       "      <td>2001/06</td>\n",
       "      <td>0.130917</td>\n",
       "      <td>35.53</td>\n",
       "    </tr>\n",
       "    <tr>\n",
       "      <th>2001-07-01</th>\n",
       "      <td>3026</td>\n",
       "      <td>Holy Stone</td>\n",
       "      <td>2001/07</td>\n",
       "      <td>-0.271845</td>\n",
       "      <td>25.87</td>\n",
       "    </tr>\n",
       "  </tbody>\n",
       "</table>\n",
       "</div>"
      ],
      "text/plain": [
       "           CO_ID         CoName     Date  ROI_Month  Close_Month\n",
       "Date                                                            \n",
       "2000-10-01  3026  Holy Stone     2000/10  -0.177606        36.45\n",
       "2000-11-01  3026  Holy Stone     2000/11  -0.145541        31.15\n",
       "2000-12-01  3026  Holy Stone     2000/12  -0.390111        19.00\n",
       "2001-01-01  3026  Holy Stone     2001/01   1.000001        37.99\n",
       "2001-02-01  3026  Holy Stone     2001/02   0.004505        38.17\n",
       "2001-03-01  3026  Holy Stone     2001/03   0.291478        49.29\n",
       "2001-04-01  3026  Holy Stone     2001/04  -0.204862        39.19\n",
       "2001-05-01  3026  Holy Stone     2001/05  -0.235808        29.95\n",
       "2001-06-01  3026  Holy Stone     2001/06   0.130917        35.53\n",
       "2001-07-01  3026  Holy Stone     2001/07  -0.271845        25.87"
      ]
     },
     "execution_count": 26,
     "metadata": {},
     "output_type": "execute_result"
    }
   ],
   "source": [
    "ret_stk.head(10)"
   ]
  },
  {
   "cell_type": "code",
   "execution_count": 27,
   "metadata": {},
   "outputs": [],
   "source": [
    "ret_stk = ret_stk.sort_index()"
   ]
  },
  {
   "cell_type": "code",
   "execution_count": 28,
   "metadata": {},
   "outputs": [],
   "source": [
    "ret_stk['ret'] = ret_stk.ROI_Month.shift(-3)"
   ]
  },
  {
   "cell_type": "code",
   "execution_count": 29,
   "metadata": {},
   "outputs": [
    {
     "data": {
      "text/html": [
       "<div>\n",
       "<style scoped>\n",
       "    .dataframe tbody tr th:only-of-type {\n",
       "        vertical-align: middle;\n",
       "    }\n",
       "\n",
       "    .dataframe tbody tr th {\n",
       "        vertical-align: top;\n",
       "    }\n",
       "\n",
       "    .dataframe thead th {\n",
       "        text-align: right;\n",
       "    }\n",
       "</style>\n",
       "<table border=\"1\" class=\"dataframe\">\n",
       "  <thead>\n",
       "    <tr style=\"text-align: right;\">\n",
       "      <th></th>\n",
       "      <th>CO_ID</th>\n",
       "      <th>CoName</th>\n",
       "      <th>Date</th>\n",
       "      <th>ROI_Month</th>\n",
       "      <th>Close_Month</th>\n",
       "      <th>ret</th>\n",
       "    </tr>\n",
       "    <tr>\n",
       "      <th>Date</th>\n",
       "      <th></th>\n",
       "      <th></th>\n",
       "      <th></th>\n",
       "      <th></th>\n",
       "      <th></th>\n",
       "      <th></th>\n",
       "    </tr>\n",
       "  </thead>\n",
       "  <tbody>\n",
       "    <tr>\n",
       "      <th>2000-10-01</th>\n",
       "      <td>3026</td>\n",
       "      <td>Holy Stone</td>\n",
       "      <td>2000/10</td>\n",
       "      <td>-0.177606</td>\n",
       "      <td>36.45</td>\n",
       "      <td>1.000001</td>\n",
       "    </tr>\n",
       "    <tr>\n",
       "      <th>2000-11-01</th>\n",
       "      <td>3026</td>\n",
       "      <td>Holy Stone</td>\n",
       "      <td>2000/11</td>\n",
       "      <td>-0.145541</td>\n",
       "      <td>31.15</td>\n",
       "      <td>0.004505</td>\n",
       "    </tr>\n",
       "    <tr>\n",
       "      <th>2000-12-01</th>\n",
       "      <td>3026</td>\n",
       "      <td>Holy Stone</td>\n",
       "      <td>2000/12</td>\n",
       "      <td>-0.390111</td>\n",
       "      <td>19.00</td>\n",
       "      <td>0.291478</td>\n",
       "    </tr>\n",
       "    <tr>\n",
       "      <th>2001-01-01</th>\n",
       "      <td>3026</td>\n",
       "      <td>Holy Stone</td>\n",
       "      <td>2001/01</td>\n",
       "      <td>1.000001</td>\n",
       "      <td>37.99</td>\n",
       "      <td>-0.204862</td>\n",
       "    </tr>\n",
       "    <tr>\n",
       "      <th>2001-02-01</th>\n",
       "      <td>3026</td>\n",
       "      <td>Holy Stone</td>\n",
       "      <td>2001/02</td>\n",
       "      <td>0.004505</td>\n",
       "      <td>38.17</td>\n",
       "      <td>-0.235808</td>\n",
       "    </tr>\n",
       "    <tr>\n",
       "      <th>2001-03-01</th>\n",
       "      <td>3026</td>\n",
       "      <td>Holy Stone</td>\n",
       "      <td>2001/03</td>\n",
       "      <td>0.291478</td>\n",
       "      <td>49.29</td>\n",
       "      <td>0.130917</td>\n",
       "    </tr>\n",
       "    <tr>\n",
       "      <th>2001-04-01</th>\n",
       "      <td>3026</td>\n",
       "      <td>Holy Stone</td>\n",
       "      <td>2001/04</td>\n",
       "      <td>-0.204862</td>\n",
       "      <td>39.19</td>\n",
       "      <td>-0.271845</td>\n",
       "    </tr>\n",
       "    <tr>\n",
       "      <th>2001-05-01</th>\n",
       "      <td>3026</td>\n",
       "      <td>Holy Stone</td>\n",
       "      <td>2001/05</td>\n",
       "      <td>-0.235808</td>\n",
       "      <td>29.95</td>\n",
       "      <td>-0.153335</td>\n",
       "    </tr>\n",
       "    <tr>\n",
       "      <th>2001-06-01</th>\n",
       "      <td>3026</td>\n",
       "      <td>Holy Stone</td>\n",
       "      <td>2001/06</td>\n",
       "      <td>0.130917</td>\n",
       "      <td>35.53</td>\n",
       "      <td>-0.181104</td>\n",
       "    </tr>\n",
       "    <tr>\n",
       "      <th>2001-07-01</th>\n",
       "      <td>3026</td>\n",
       "      <td>Holy Stone</td>\n",
       "      <td>2001/07</td>\n",
       "      <td>-0.271845</td>\n",
       "      <td>25.87</td>\n",
       "      <td>0.019228</td>\n",
       "    </tr>\n",
       "  </tbody>\n",
       "</table>\n",
       "</div>"
      ],
      "text/plain": [
       "           CO_ID         CoName     Date  ROI_Month  Close_Month       ret\n",
       "Date                                                                      \n",
       "2000-10-01  3026  Holy Stone     2000/10  -0.177606        36.45  1.000001\n",
       "2000-11-01  3026  Holy Stone     2000/11  -0.145541        31.15  0.004505\n",
       "2000-12-01  3026  Holy Stone     2000/12  -0.390111        19.00  0.291478\n",
       "2001-01-01  3026  Holy Stone     2001/01   1.000001        37.99 -0.204862\n",
       "2001-02-01  3026  Holy Stone     2001/02   0.004505        38.17 -0.235808\n",
       "2001-03-01  3026  Holy Stone     2001/03   0.291478        49.29  0.130917\n",
       "2001-04-01  3026  Holy Stone     2001/04  -0.204862        39.19 -0.271845\n",
       "2001-05-01  3026  Holy Stone     2001/05  -0.235808        29.95 -0.153335\n",
       "2001-06-01  3026  Holy Stone     2001/06   0.130917        35.53 -0.181104\n",
       "2001-07-01  3026  Holy Stone     2001/07  -0.271845        25.87  0.019228"
      ]
     },
     "execution_count": 29,
     "metadata": {},
     "output_type": "execute_result"
    }
   ],
   "source": [
    "ret_stk.head(10)"
   ]
  },
  {
   "cell_type": "code",
   "execution_count": 30,
   "metadata": {},
   "outputs": [],
   "source": [
    "ret_stk['ret']=(1+ret_stk['ret'])"
   ]
  },
  {
   "cell_type": "code",
   "execution_count": 31,
   "metadata": {},
   "outputs": [],
   "source": [
    "ret_stk['year'] = ret_stk.index.year"
   ]
  },
  {
   "cell_type": "code",
   "execution_count": 32,
   "metadata": {},
   "outputs": [],
   "source": [
    "cumret_stk = ret_stk[['ret','year']].groupby('year').cumprod()"
   ]
  },
  {
   "cell_type": "code",
   "execution_count": 33,
   "metadata": {},
   "outputs": [],
   "source": [
    "cumret_stk['month'] = cumret_stk.index.month"
   ]
  },
  {
   "cell_type": "code",
   "execution_count": 34,
   "metadata": {},
   "outputs": [],
   "source": [
    "annualRet_stk = cumret_stk.loc[cumret_stk.month==12]"
   ]
  },
  {
   "cell_type": "code",
   "execution_count": 35,
   "metadata": {
    "scrolled": true
   },
   "outputs": [
    {
     "name": "stderr",
     "output_type": "stream",
     "text": [
      "C:\\ProgramData\\Anaconda3\\lib\\site-packages\\pandas\\core\\generic.py:5096: SettingWithCopyWarning: \n",
      "A value is trying to be set on a copy of a slice from a DataFrame.\n",
      "Try using .loc[row_indexer,col_indexer] = value instead\n",
      "\n",
      "See the caveats in the documentation: http://pandas.pydata.org/pandas-docs/stable/indexing.html#indexing-view-versus-copy\n",
      "  self[name] = value\n"
     ]
    }
   ],
   "source": [
    "annualRet_stk.ret-=1"
   ]
  },
  {
   "cell_type": "code",
   "execution_count": 36,
   "metadata": {},
   "outputs": [
    {
     "data": {
      "text/html": [
       "<div>\n",
       "<style scoped>\n",
       "    .dataframe tbody tr th:only-of-type {\n",
       "        vertical-align: middle;\n",
       "    }\n",
       "\n",
       "    .dataframe tbody tr th {\n",
       "        vertical-align: top;\n",
       "    }\n",
       "\n",
       "    .dataframe thead th {\n",
       "        text-align: right;\n",
       "    }\n",
       "</style>\n",
       "<table border=\"1\" class=\"dataframe\">\n",
       "  <thead>\n",
       "    <tr style=\"text-align: right;\">\n",
       "      <th></th>\n",
       "      <th>ret</th>\n",
       "      <th>month</th>\n",
       "    </tr>\n",
       "    <tr>\n",
       "      <th>Date</th>\n",
       "      <th></th>\n",
       "      <th></th>\n",
       "    </tr>\n",
       "  </thead>\n",
       "  <tbody>\n",
       "    <tr>\n",
       "      <th>2000-12-01</th>\n",
       "      <td>1.594594</td>\n",
       "      <td>12</td>\n",
       "    </tr>\n",
       "    <tr>\n",
       "      <th>2001-12-01</th>\n",
       "      <td>-0.426237</td>\n",
       "      <td>12</td>\n",
       "    </tr>\n",
       "    <tr>\n",
       "      <th>2002-12-01</th>\n",
       "      <td>-0.445916</td>\n",
       "      <td>12</td>\n",
       "    </tr>\n",
       "    <tr>\n",
       "      <th>2003-12-01</th>\n",
       "      <td>0.648166</td>\n",
       "      <td>12</td>\n",
       "    </tr>\n",
       "    <tr>\n",
       "      <th>2004-12-01</th>\n",
       "      <td>-0.170718</td>\n",
       "      <td>12</td>\n",
       "    </tr>\n",
       "  </tbody>\n",
       "</table>\n",
       "</div>"
      ],
      "text/plain": [
       "                 ret  month\n",
       "Date                       \n",
       "2000-12-01  1.594594     12\n",
       "2001-12-01 -0.426237     12\n",
       "2002-12-01 -0.445916     12\n",
       "2003-12-01  0.648166     12\n",
       "2004-12-01 -0.170718     12"
      ]
     },
     "execution_count": 36,
     "metadata": {},
     "output_type": "execute_result"
    }
   ],
   "source": [
    "annualRet_stk.head()"
   ]
  },
  {
   "cell_type": "code",
   "execution_count": 37,
   "metadata": {},
   "outputs": [],
   "source": [
    "annualRet_stk.loc[:,'CO_ID'] =  stkcd"
   ]
  },
  {
   "cell_type": "code",
   "execution_count": 38,
   "metadata": {},
   "outputs": [],
   "source": [
    "annualRet_stk.loc[:,'year'] = annualRet_stk.index.year-1"
   ]
  },
  {
   "cell_type": "code",
   "execution_count": 39,
   "metadata": {},
   "outputs": [
    {
     "data": {
      "text/html": [
       "<div>\n",
       "<style scoped>\n",
       "    .dataframe tbody tr th:only-of-type {\n",
       "        vertical-align: middle;\n",
       "    }\n",
       "\n",
       "    .dataframe tbody tr th {\n",
       "        vertical-align: top;\n",
       "    }\n",
       "\n",
       "    .dataframe thead th {\n",
       "        text-align: right;\n",
       "    }\n",
       "</style>\n",
       "<table border=\"1\" class=\"dataframe\">\n",
       "  <thead>\n",
       "    <tr style=\"text-align: right;\">\n",
       "      <th></th>\n",
       "      <th>ret</th>\n",
       "      <th>month</th>\n",
       "      <th>CO_ID</th>\n",
       "      <th>year</th>\n",
       "    </tr>\n",
       "    <tr>\n",
       "      <th>Date</th>\n",
       "      <th></th>\n",
       "      <th></th>\n",
       "      <th></th>\n",
       "      <th></th>\n",
       "    </tr>\n",
       "  </thead>\n",
       "  <tbody>\n",
       "    <tr>\n",
       "      <th>2000-12-01</th>\n",
       "      <td>1.594594</td>\n",
       "      <td>12</td>\n",
       "      <td>3026</td>\n",
       "      <td>1999</td>\n",
       "    </tr>\n",
       "    <tr>\n",
       "      <th>2001-12-01</th>\n",
       "      <td>-0.426237</td>\n",
       "      <td>12</td>\n",
       "      <td>3026</td>\n",
       "      <td>2000</td>\n",
       "    </tr>\n",
       "    <tr>\n",
       "      <th>2002-12-01</th>\n",
       "      <td>-0.445916</td>\n",
       "      <td>12</td>\n",
       "      <td>3026</td>\n",
       "      <td>2001</td>\n",
       "    </tr>\n",
       "    <tr>\n",
       "      <th>2003-12-01</th>\n",
       "      <td>0.648166</td>\n",
       "      <td>12</td>\n",
       "      <td>3026</td>\n",
       "      <td>2002</td>\n",
       "    </tr>\n",
       "    <tr>\n",
       "      <th>2004-12-01</th>\n",
       "      <td>-0.170718</td>\n",
       "      <td>12</td>\n",
       "      <td>3026</td>\n",
       "      <td>2003</td>\n",
       "    </tr>\n",
       "    <tr>\n",
       "      <th>2005-12-01</th>\n",
       "      <td>0.394209</td>\n",
       "      <td>12</td>\n",
       "      <td>3026</td>\n",
       "      <td>2004</td>\n",
       "    </tr>\n",
       "    <tr>\n",
       "      <th>2006-12-01</th>\n",
       "      <td>0.136946</td>\n",
       "      <td>12</td>\n",
       "      <td>3026</td>\n",
       "      <td>2005</td>\n",
       "    </tr>\n",
       "    <tr>\n",
       "      <th>2007-12-01</th>\n",
       "      <td>-0.216601</td>\n",
       "      <td>12</td>\n",
       "      <td>3026</td>\n",
       "      <td>2006</td>\n",
       "    </tr>\n",
       "    <tr>\n",
       "      <th>2008-12-01</th>\n",
       "      <td>-0.442586</td>\n",
       "      <td>12</td>\n",
       "      <td>3026</td>\n",
       "      <td>2007</td>\n",
       "    </tr>\n",
       "    <tr>\n",
       "      <th>2009-12-01</th>\n",
       "      <td>1.413090</td>\n",
       "      <td>12</td>\n",
       "      <td>3026</td>\n",
       "      <td>2008</td>\n",
       "    </tr>\n",
       "    <tr>\n",
       "      <th>2010-12-01</th>\n",
       "      <td>-0.221863</td>\n",
       "      <td>12</td>\n",
       "      <td>3026</td>\n",
       "      <td>2009</td>\n",
       "    </tr>\n",
       "    <tr>\n",
       "      <th>2011-12-01</th>\n",
       "      <td>-0.124470</td>\n",
       "      <td>12</td>\n",
       "      <td>3026</td>\n",
       "      <td>2010</td>\n",
       "    </tr>\n",
       "    <tr>\n",
       "      <th>2012-12-01</th>\n",
       "      <td>0.008983</td>\n",
       "      <td>12</td>\n",
       "      <td>3026</td>\n",
       "      <td>2011</td>\n",
       "    </tr>\n",
       "    <tr>\n",
       "      <th>2013-12-01</th>\n",
       "      <td>0.348890</td>\n",
       "      <td>12</td>\n",
       "      <td>3026</td>\n",
       "      <td>2012</td>\n",
       "    </tr>\n",
       "    <tr>\n",
       "      <th>2014-12-01</th>\n",
       "      <td>0.077087</td>\n",
       "      <td>12</td>\n",
       "      <td>3026</td>\n",
       "      <td>2013</td>\n",
       "    </tr>\n",
       "    <tr>\n",
       "      <th>2015-12-01</th>\n",
       "      <td>-0.154894</td>\n",
       "      <td>12</td>\n",
       "      <td>3026</td>\n",
       "      <td>2014</td>\n",
       "    </tr>\n",
       "    <tr>\n",
       "      <th>2016-12-01</th>\n",
       "      <td>0.208559</td>\n",
       "      <td>12</td>\n",
       "      <td>3026</td>\n",
       "      <td>2015</td>\n",
       "    </tr>\n",
       "    <tr>\n",
       "      <th>2017-12-01</th>\n",
       "      <td>1.762569</td>\n",
       "      <td>12</td>\n",
       "      <td>3026</td>\n",
       "      <td>2016</td>\n",
       "    </tr>\n",
       "    <tr>\n",
       "      <th>2018-12-01</th>\n",
       "      <td>-0.112259</td>\n",
       "      <td>12</td>\n",
       "      <td>3026</td>\n",
       "      <td>2017</td>\n",
       "    </tr>\n",
       "  </tbody>\n",
       "</table>\n",
       "</div>"
      ],
      "text/plain": [
       "                 ret  month CO_ID  year\n",
       "Date                                   \n",
       "2000-12-01  1.594594     12  3026  1999\n",
       "2001-12-01 -0.426237     12  3026  2000\n",
       "2002-12-01 -0.445916     12  3026  2001\n",
       "2003-12-01  0.648166     12  3026  2002\n",
       "2004-12-01 -0.170718     12  3026  2003\n",
       "2005-12-01  0.394209     12  3026  2004\n",
       "2006-12-01  0.136946     12  3026  2005\n",
       "2007-12-01 -0.216601     12  3026  2006\n",
       "2008-12-01 -0.442586     12  3026  2007\n",
       "2009-12-01  1.413090     12  3026  2008\n",
       "2010-12-01 -0.221863     12  3026  2009\n",
       "2011-12-01 -0.124470     12  3026  2010\n",
       "2012-12-01  0.008983     12  3026  2011\n",
       "2013-12-01  0.348890     12  3026  2012\n",
       "2014-12-01  0.077087     12  3026  2013\n",
       "2015-12-01 -0.154894     12  3026  2014\n",
       "2016-12-01  0.208559     12  3026  2015\n",
       "2017-12-01  1.762569     12  3026  2016\n",
       "2018-12-01 -0.112259     12  3026  2017"
      ]
     },
     "execution_count": 39,
     "metadata": {},
     "output_type": "execute_result"
    }
   ],
   "source": [
    "annualRet_stk"
   ]
  },
  {
   "cell_type": "code",
   "execution_count": 43,
   "metadata": {},
   "outputs": [],
   "source": [
    "def getAnnualRet(stkcd,ret=ret):\n",
    "    ret_stk = ret.loc[ret.CO_ID==stkcd]\n",
    "    ret_stk = ret_stk.sort_index()\n",
    "    ret_stk['ret'] = ret_stk.ROI_Month.shift(-3)\n",
    "    ret_stk['ret']=(1+ret_stk['ret'])\n",
    "    ret_stk['year'] = ret_stk.index.year\n",
    "    cumret_stk = ret_stk[['ret','year']].groupby('year').cumprod()\n",
    "    cumret_stk['month'] = cumret_stk.index.month\n",
    "    annualRet_stk = cumret_stk.loc[cumret_stk.month==12]\n",
    "    annualRet_stk['ret']-=1\n",
    "    annualRet_stk.loc[:,'year'] = annualRet_stk.index.year-1\n",
    "    annualRet_stk['CO_ID'] =  stkcd   \n",
    "    return(annualRet_stk)"
   ]
  },
  {
   "cell_type": "code",
   "execution_count": 44,
   "metadata": {},
   "outputs": [],
   "source": [
    "annualRet_list = []"
   ]
  },
  {
   "cell_type": "code",
   "execution_count": 45,
   "metadata": {},
   "outputs": [
    {
     "name": "stderr",
     "output_type": "stream",
     "text": [
      "C:\\ProgramData\\Anaconda3\\lib\\site-packages\\ipykernel_launcher.py:10: SettingWithCopyWarning: \n",
      "A value is trying to be set on a copy of a slice from a DataFrame.\n",
      "Try using .loc[row_indexer,col_indexer] = value instead\n",
      "\n",
      "See the caveats in the documentation: http://pandas.pydata.org/pandas-docs/stable/indexing.html#indexing-view-versus-copy\n",
      "  # Remove the CWD from sys.path while we load stuff.\n",
      "C:\\ProgramData\\Anaconda3\\lib\\site-packages\\ipykernel_launcher.py:12: SettingWithCopyWarning: \n",
      "A value is trying to be set on a copy of a slice from a DataFrame.\n",
      "Try using .loc[row_indexer,col_indexer] = value instead\n",
      "\n",
      "See the caveats in the documentation: http://pandas.pydata.org/pandas-docs/stable/indexing.html#indexing-view-versus-copy\n",
      "  if sys.path[0] == '':\n"
     ]
    }
   ],
   "source": [
    "for stkcd in stk_list:\n",
    "    anRet_stk = getAnnualRet(stkcd)\n",
    "    annualRet_list.append(anRet_stk)"
   ]
  },
  {
   "cell_type": "code",
   "execution_count": 46,
   "metadata": {},
   "outputs": [],
   "source": [
    "annualRet_all = pd.concat(annualRet_list)"
   ]
  },
  {
   "cell_type": "code",
   "execution_count": 49,
   "metadata": {},
   "outputs": [
    {
     "data": {
      "text/html": [
       "<div>\n",
       "<style scoped>\n",
       "    .dataframe tbody tr th:only-of-type {\n",
       "        vertical-align: middle;\n",
       "    }\n",
       "\n",
       "    .dataframe tbody tr th {\n",
       "        vertical-align: top;\n",
       "    }\n",
       "\n",
       "    .dataframe thead th {\n",
       "        text-align: right;\n",
       "    }\n",
       "</style>\n",
       "<table border=\"1\" class=\"dataframe\">\n",
       "  <thead>\n",
       "    <tr style=\"text-align: right;\">\n",
       "      <th></th>\n",
       "      <th>ret</th>\n",
       "      <th>month</th>\n",
       "      <th>year</th>\n",
       "      <th>CO_ID</th>\n",
       "    </tr>\n",
       "  </thead>\n",
       "  <tbody>\n",
       "    <tr>\n",
       "      <th>2014-12-01</th>\n",
       "      <td>-0.051077</td>\n",
       "      <td>12</td>\n",
       "      <td>2013</td>\n",
       "      <td>9962</td>\n",
       "    </tr>\n",
       "    <tr>\n",
       "      <th>2015-12-01</th>\n",
       "      <td>-0.269664</td>\n",
       "      <td>12</td>\n",
       "      <td>2014</td>\n",
       "      <td>9962</td>\n",
       "    </tr>\n",
       "    <tr>\n",
       "      <th>2016-12-01</th>\n",
       "      <td>0.313506</td>\n",
       "      <td>12</td>\n",
       "      <td>2015</td>\n",
       "      <td>9962</td>\n",
       "    </tr>\n",
       "    <tr>\n",
       "      <th>2017-12-01</th>\n",
       "      <td>0.066031</td>\n",
       "      <td>12</td>\n",
       "      <td>2016</td>\n",
       "      <td>9962</td>\n",
       "    </tr>\n",
       "    <tr>\n",
       "      <th>2018-12-01</th>\n",
       "      <td>0.187176</td>\n",
       "      <td>12</td>\n",
       "      <td>2017</td>\n",
       "      <td>9962</td>\n",
       "    </tr>\n",
       "    <tr>\n",
       "      <th>2006-12-01</th>\n",
       "      <td>0.111110</td>\n",
       "      <td>12</td>\n",
       "      <td>2005</td>\n",
       "      <td>9965</td>\n",
       "    </tr>\n",
       "    <tr>\n",
       "      <th>2007-12-01</th>\n",
       "      <td>-0.172939</td>\n",
       "      <td>12</td>\n",
       "      <td>2006</td>\n",
       "      <td>9965</td>\n",
       "    </tr>\n",
       "    <tr>\n",
       "      <th>2008-12-01</th>\n",
       "      <td>-0.383858</td>\n",
       "      <td>12</td>\n",
       "      <td>2007</td>\n",
       "      <td>9965</td>\n",
       "    </tr>\n",
       "    <tr>\n",
       "      <th>2000-12-01</th>\n",
       "      <td>-0.403611</td>\n",
       "      <td>12</td>\n",
       "      <td>1999</td>\n",
       "      <td>L2301</td>\n",
       "    </tr>\n",
       "    <tr>\n",
       "      <th>2001-12-01</th>\n",
       "      <td>0.398459</td>\n",
       "      <td>12</td>\n",
       "      <td>2000</td>\n",
       "      <td>L2301</td>\n",
       "    </tr>\n",
       "  </tbody>\n",
       "</table>\n",
       "</div>"
      ],
      "text/plain": [
       "                 ret  month  year    CO_ID\n",
       "2014-12-01 -0.051077     12  2013  9962   \n",
       "2015-12-01 -0.269664     12  2014  9962   \n",
       "2016-12-01  0.313506     12  2015  9962   \n",
       "2017-12-01  0.066031     12  2016  9962   \n",
       "2018-12-01  0.187176     12  2017  9962   \n",
       "2006-12-01  0.111110     12  2005  9965   \n",
       "2007-12-01 -0.172939     12  2006  9965   \n",
       "2008-12-01 -0.383858     12  2007  9965   \n",
       "2000-12-01 -0.403611     12  1999  L2301  \n",
       "2001-12-01  0.398459     12  2000  L2301  "
      ]
     },
     "execution_count": 49,
     "metadata": {},
     "output_type": "execute_result"
    }
   ],
   "source": [
    "annualRet_all.tail(10)"
   ]
  },
  {
   "cell_type": "markdown",
   "metadata": {},
   "source": [
    "### 1.3 merge the fin data and stock return data"
   ]
  },
  {
   "cell_type": "code",
   "execution_count": 50,
   "metadata": {},
   "outputs": [
    {
     "data": {
      "text/html": [
       "<div>\n",
       "<style scoped>\n",
       "    .dataframe tbody tr th:only-of-type {\n",
       "        vertical-align: middle;\n",
       "    }\n",
       "\n",
       "    .dataframe tbody tr th {\n",
       "        vertical-align: top;\n",
       "    }\n",
       "\n",
       "    .dataframe thead th {\n",
       "        text-align: right;\n",
       "    }\n",
       "</style>\n",
       "<table border=\"1\" class=\"dataframe\">\n",
       "  <thead>\n",
       "    <tr style=\"text-align: right;\">\n",
       "      <th></th>\n",
       "      <th>CO_ID</th>\n",
       "      <th>year</th>\n",
       "      <th>P/E_Consol</th>\n",
       "      <th>P/B_Consol</th>\n",
       "      <th>PSR_Consol</th>\n",
       "      <th>ROA(B)-EBITDA%_Consol</th>\n",
       "      <th>ROE(B)-NI ExDisposal_Consol</th>\n",
       "      <th>Inventory Turnover_Consol</th>\n",
       "      <th>YOY%-Oper.Income_Consol</th>\n",
       "      <th>YOY%-Net Income_Consol</th>\n",
       "      <th>A/R &amp; N/R Turnover_Consol</th>\n",
       "      <th>OPM</th>\n",
       "      <th>NPM</th>\n",
       "      <th>DER</th>\n",
       "      <th>CR</th>\n",
       "      <th>QR</th>\n",
       "    </tr>\n",
       "    <tr>\n",
       "      <th>YYYY/MM</th>\n",
       "      <th></th>\n",
       "      <th></th>\n",
       "      <th></th>\n",
       "      <th></th>\n",
       "      <th></th>\n",
       "      <th></th>\n",
       "      <th></th>\n",
       "      <th></th>\n",
       "      <th></th>\n",
       "      <th></th>\n",
       "      <th></th>\n",
       "      <th></th>\n",
       "      <th></th>\n",
       "      <th></th>\n",
       "      <th></th>\n",
       "      <th></th>\n",
       "    </tr>\n",
       "  </thead>\n",
       "  <tbody>\n",
       "    <tr>\n",
       "      <th>2000-12-01</th>\n",
       "      <td>1101</td>\n",
       "      <td>2000.0</td>\n",
       "      <td>NaN</td>\n",
       "      <td>0.77</td>\n",
       "      <td>1.28</td>\n",
       "      <td>1.79</td>\n",
       "      <td>-2.80</td>\n",
       "      <td>13.42</td>\n",
       "      <td>-24.54</td>\n",
       "      <td>-48.95</td>\n",
       "      <td>6.71</td>\n",
       "      <td>0.045857</td>\n",
       "      <td>0.038111</td>\n",
       "      <td>1.929624</td>\n",
       "      <td>0.897653</td>\n",
       "      <td>0.790965</td>\n",
       "    </tr>\n",
       "    <tr>\n",
       "      <th>2000-12-01</th>\n",
       "      <td>1102</td>\n",
       "      <td>2000.0</td>\n",
       "      <td>227.88</td>\n",
       "      <td>1.09</td>\n",
       "      <td>3.04</td>\n",
       "      <td>2.62</td>\n",
       "      <td>0.52</td>\n",
       "      <td>6.46</td>\n",
       "      <td>-46.82</td>\n",
       "      <td>-95.09</td>\n",
       "      <td>2.30</td>\n",
       "      <td>0.065025</td>\n",
       "      <td>0.014345</td>\n",
       "      <td>0.661913</td>\n",
       "      <td>0.926320</td>\n",
       "      <td>0.758915</td>\n",
       "    </tr>\n",
       "    <tr>\n",
       "      <th>2000-12-01</th>\n",
       "      <td>1103</td>\n",
       "      <td>2000.0</td>\n",
       "      <td>NaN</td>\n",
       "      <td>0.38</td>\n",
       "      <td>0.71</td>\n",
       "      <td>2.14</td>\n",
       "      <td>-3.10</td>\n",
       "      <td>1.60</td>\n",
       "      <td>-4.33</td>\n",
       "      <td>-192.14</td>\n",
       "      <td>2.49</td>\n",
       "      <td>0.116509</td>\n",
       "      <td>-0.063086</td>\n",
       "      <td>2.049299</td>\n",
       "      <td>1.312697</td>\n",
       "      <td>0.990081</td>\n",
       "    </tr>\n",
       "    <tr>\n",
       "      <th>2000-12-01</th>\n",
       "      <td>1104</td>\n",
       "      <td>2000.0</td>\n",
       "      <td>103.37</td>\n",
       "      <td>0.49</td>\n",
       "      <td>0.63</td>\n",
       "      <td>3.99</td>\n",
       "      <td>0.67</td>\n",
       "      <td>7.01</td>\n",
       "      <td>-86.81</td>\n",
       "      <td>-77.04</td>\n",
       "      <td>3.25</td>\n",
       "      <td>0.009053</td>\n",
       "      <td>0.013517</td>\n",
       "      <td>0.677758</td>\n",
       "      <td>1.210828</td>\n",
       "      <td>0.965117</td>\n",
       "    </tr>\n",
       "    <tr>\n",
       "      <th>2000-12-01</th>\n",
       "      <td>1107</td>\n",
       "      <td>2000.0</td>\n",
       "      <td>NaN</td>\n",
       "      <td>0.15</td>\n",
       "      <td>0.20</td>\n",
       "      <td>-9.05</td>\n",
       "      <td>-29.83</td>\n",
       "      <td>1.24</td>\n",
       "      <td>-2602.29</td>\n",
       "      <td>-345.28</td>\n",
       "      <td>7.65</td>\n",
       "      <td>-0.208292</td>\n",
       "      <td>-0.457641</td>\n",
       "      <td>1.337873</td>\n",
       "      <td>0.883931</td>\n",
       "      <td>0.268951</td>\n",
       "    </tr>\n",
       "  </tbody>\n",
       "</table>\n",
       "</div>"
      ],
      "text/plain": [
       "              CO_ID    year  P/E_Consol  P/B_Consol  PSR_Consol  \\\n",
       "YYYY/MM                                                           \n",
       "2000-12-01  1101     2000.0         NaN        0.77        1.28   \n",
       "2000-12-01  1102     2000.0      227.88        1.09        3.04   \n",
       "2000-12-01  1103     2000.0         NaN        0.38        0.71   \n",
       "2000-12-01  1104     2000.0      103.37        0.49        0.63   \n",
       "2000-12-01  1107     2000.0         NaN        0.15        0.20   \n",
       "\n",
       "            ROA(B)-EBITDA%_Consol  ROE(B)-NI ExDisposal_Consol  \\\n",
       "YYYY/MM                                                          \n",
       "2000-12-01                   1.79                        -2.80   \n",
       "2000-12-01                   2.62                         0.52   \n",
       "2000-12-01                   2.14                        -3.10   \n",
       "2000-12-01                   3.99                         0.67   \n",
       "2000-12-01                  -9.05                       -29.83   \n",
       "\n",
       "            Inventory Turnover_Consol  YOY%-Oper.Income_Consol  \\\n",
       "YYYY/MM                                                          \n",
       "2000-12-01                      13.42                   -24.54   \n",
       "2000-12-01                       6.46                   -46.82   \n",
       "2000-12-01                       1.60                    -4.33   \n",
       "2000-12-01                       7.01                   -86.81   \n",
       "2000-12-01                       1.24                 -2602.29   \n",
       "\n",
       "            YOY%-Net Income_Consol  A/R & N/R Turnover_Consol       OPM  \\\n",
       "YYYY/MM                                                                   \n",
       "2000-12-01                  -48.95                       6.71  0.045857   \n",
       "2000-12-01                  -95.09                       2.30  0.065025   \n",
       "2000-12-01                 -192.14                       2.49  0.116509   \n",
       "2000-12-01                  -77.04                       3.25  0.009053   \n",
       "2000-12-01                 -345.28                       7.65 -0.208292   \n",
       "\n",
       "                 NPM       DER        CR        QR  \n",
       "YYYY/MM                                             \n",
       "2000-12-01  0.038111  1.929624  0.897653  0.790965  \n",
       "2000-12-01  0.014345  0.661913  0.926320  0.758915  \n",
       "2000-12-01 -0.063086  2.049299  1.312697  0.990081  \n",
       "2000-12-01  0.013517  0.677758  1.210828  0.965117  \n",
       "2000-12-01 -0.457641  1.337873  0.883931  0.268951  "
      ]
     },
     "execution_count": 50,
     "metadata": {},
     "output_type": "execute_result"
    }
   ],
   "source": [
    "findata2.head()"
   ]
  },
  {
   "cell_type": "code",
   "execution_count": 51,
   "metadata": {},
   "outputs": [
    {
     "data": {
      "text/plain": [
       "2000.0"
      ]
     },
     "execution_count": 51,
     "metadata": {},
     "output_type": "execute_result"
    }
   ],
   "source": [
    "findata2.year[0]"
   ]
  },
  {
   "cell_type": "code",
   "execution_count": 52,
   "metadata": {},
   "outputs": [],
   "source": [
    "findata2.year = findata2.year.astype(np.int)"
   ]
  },
  {
   "cell_type": "code",
   "execution_count": 53,
   "metadata": {},
   "outputs": [],
   "source": [
    "XY_data = pd.merge(findata2,annualRet_all,on=['CO_ID','year'])"
   ]
  },
  {
   "cell_type": "code",
   "execution_count": 54,
   "metadata": {},
   "outputs": [],
   "source": [
    "XY_data = XY_data.dropna()"
   ]
  },
  {
   "cell_type": "code",
   "execution_count": 55,
   "metadata": {},
   "outputs": [
    {
     "data": {
      "text/html": [
       "<div>\n",
       "<style scoped>\n",
       "    .dataframe tbody tr th:only-of-type {\n",
       "        vertical-align: middle;\n",
       "    }\n",
       "\n",
       "    .dataframe tbody tr th {\n",
       "        vertical-align: top;\n",
       "    }\n",
       "\n",
       "    .dataframe thead th {\n",
       "        text-align: right;\n",
       "    }\n",
       "</style>\n",
       "<table border=\"1\" class=\"dataframe\">\n",
       "  <thead>\n",
       "    <tr style=\"text-align: right;\">\n",
       "      <th></th>\n",
       "      <th>CO_ID</th>\n",
       "      <th>year</th>\n",
       "      <th>P/E_Consol</th>\n",
       "      <th>P/B_Consol</th>\n",
       "      <th>PSR_Consol</th>\n",
       "      <th>ROA(B)-EBITDA%_Consol</th>\n",
       "      <th>ROE(B)-NI ExDisposal_Consol</th>\n",
       "      <th>Inventory Turnover_Consol</th>\n",
       "      <th>YOY%-Oper.Income_Consol</th>\n",
       "      <th>YOY%-Net Income_Consol</th>\n",
       "      <th>A/R &amp; N/R Turnover_Consol</th>\n",
       "      <th>OPM</th>\n",
       "      <th>NPM</th>\n",
       "      <th>DER</th>\n",
       "      <th>CR</th>\n",
       "      <th>QR</th>\n",
       "      <th>ret</th>\n",
       "      <th>month</th>\n",
       "    </tr>\n",
       "  </thead>\n",
       "  <tbody>\n",
       "    <tr>\n",
       "      <th>1</th>\n",
       "      <td>1102</td>\n",
       "      <td>2000</td>\n",
       "      <td>227.88</td>\n",
       "      <td>1.09</td>\n",
       "      <td>3.04</td>\n",
       "      <td>2.62</td>\n",
       "      <td>0.52</td>\n",
       "      <td>6.46</td>\n",
       "      <td>-46.82</td>\n",
       "      <td>-95.09</td>\n",
       "      <td>2.30</td>\n",
       "      <td>0.065025</td>\n",
       "      <td>0.014345</td>\n",
       "      <td>0.661913</td>\n",
       "      <td>0.926320</td>\n",
       "      <td>0.758915</td>\n",
       "      <td>-0.279366</td>\n",
       "      <td>12</td>\n",
       "    </tr>\n",
       "    <tr>\n",
       "      <th>3</th>\n",
       "      <td>1104</td>\n",
       "      <td>2000</td>\n",
       "      <td>103.37</td>\n",
       "      <td>0.49</td>\n",
       "      <td>0.63</td>\n",
       "      <td>3.99</td>\n",
       "      <td>0.67</td>\n",
       "      <td>7.01</td>\n",
       "      <td>-86.81</td>\n",
       "      <td>-77.04</td>\n",
       "      <td>3.25</td>\n",
       "      <td>0.009053</td>\n",
       "      <td>0.013517</td>\n",
       "      <td>0.677758</td>\n",
       "      <td>1.210828</td>\n",
       "      <td>0.965117</td>\n",
       "      <td>0.413527</td>\n",
       "      <td>12</td>\n",
       "    </tr>\n",
       "    <tr>\n",
       "      <th>6</th>\n",
       "      <td>1109</td>\n",
       "      <td>2000</td>\n",
       "      <td>37.24</td>\n",
       "      <td>0.84</td>\n",
       "      <td>2.58</td>\n",
       "      <td>3.33</td>\n",
       "      <td>2.27</td>\n",
       "      <td>5.51</td>\n",
       "      <td>-68.32</td>\n",
       "      <td>-42.68</td>\n",
       "      <td>2.86</td>\n",
       "      <td>0.045508</td>\n",
       "      <td>0.089793</td>\n",
       "      <td>0.168579</td>\n",
       "      <td>3.024537</td>\n",
       "      <td>2.639263</td>\n",
       "      <td>-0.131952</td>\n",
       "      <td>12</td>\n",
       "    </tr>\n",
       "    <tr>\n",
       "      <th>9</th>\n",
       "      <td>1210</td>\n",
       "      <td>2000</td>\n",
       "      <td>7.97</td>\n",
       "      <td>0.67</td>\n",
       "      <td>0.18</td>\n",
       "      <td>8.74</td>\n",
       "      <td>10.02</td>\n",
       "      <td>12.96</td>\n",
       "      <td>10.82</td>\n",
       "      <td>4.05</td>\n",
       "      <td>9.66</td>\n",
       "      <td>0.032389</td>\n",
       "      <td>0.022760</td>\n",
       "      <td>1.052026</td>\n",
       "      <td>1.233522</td>\n",
       "      <td>0.930449</td>\n",
       "      <td>-0.074575</td>\n",
       "      <td>12</td>\n",
       "    </tr>\n",
       "    <tr>\n",
       "      <th>14</th>\n",
       "      <td>1102</td>\n",
       "      <td>2001</td>\n",
       "      <td>117.61</td>\n",
       "      <td>0.63</td>\n",
       "      <td>1.52</td>\n",
       "      <td>2.89</td>\n",
       "      <td>0.28</td>\n",
       "      <td>7.92</td>\n",
       "      <td>-75.59</td>\n",
       "      <td>66.45</td>\n",
       "      <td>2.66</td>\n",
       "      <td>0.013591</td>\n",
       "      <td>0.021109</td>\n",
       "      <td>0.996240</td>\n",
       "      <td>1.108133</td>\n",
       "      <td>0.985739</td>\n",
       "      <td>0.358012</td>\n",
       "      <td>12</td>\n",
       "    </tr>\n",
       "  </tbody>\n",
       "</table>\n",
       "</div>"
      ],
      "text/plain": [
       "      CO_ID  year  P/E_Consol  P/B_Consol  PSR_Consol  ROA(B)-EBITDA%_Consol  \\\n",
       "1   1102     2000      227.88        1.09        3.04                   2.62   \n",
       "3   1104     2000      103.37        0.49        0.63                   3.99   \n",
       "6   1109     2000       37.24        0.84        2.58                   3.33   \n",
       "9   1210     2000        7.97        0.67        0.18                   8.74   \n",
       "14  1102     2001      117.61        0.63        1.52                   2.89   \n",
       "\n",
       "    ROE(B)-NI ExDisposal_Consol  Inventory Turnover_Consol  \\\n",
       "1                          0.52                       6.46   \n",
       "3                          0.67                       7.01   \n",
       "6                          2.27                       5.51   \n",
       "9                         10.02                      12.96   \n",
       "14                         0.28                       7.92   \n",
       "\n",
       "    YOY%-Oper.Income_Consol  YOY%-Net Income_Consol  \\\n",
       "1                    -46.82                  -95.09   \n",
       "3                    -86.81                  -77.04   \n",
       "6                    -68.32                  -42.68   \n",
       "9                     10.82                    4.05   \n",
       "14                   -75.59                   66.45   \n",
       "\n",
       "    A/R & N/R Turnover_Consol       OPM       NPM       DER        CR  \\\n",
       "1                        2.30  0.065025  0.014345  0.661913  0.926320   \n",
       "3                        3.25  0.009053  0.013517  0.677758  1.210828   \n",
       "6                        2.86  0.045508  0.089793  0.168579  3.024537   \n",
       "9                        9.66  0.032389  0.022760  1.052026  1.233522   \n",
       "14                       2.66  0.013591  0.021109  0.996240  1.108133   \n",
       "\n",
       "          QR       ret  month  \n",
       "1   0.758915 -0.279366     12  \n",
       "3   0.965117  0.413527     12  \n",
       "6   2.639263 -0.131952     12  \n",
       "9   0.930449 -0.074575     12  \n",
       "14  0.985739  0.358012     12  "
      ]
     },
     "execution_count": 55,
     "metadata": {},
     "output_type": "execute_result"
    }
   ],
   "source": [
    "XY_data.head()"
   ]
  },
  {
   "cell_type": "markdown",
   "metadata": {},
   "source": [
    "## 2. Build the SVM model "
   ]
  },
  {
   "cell_type": "code",
   "execution_count": 113,
   "metadata": {},
   "outputs": [],
   "source": [
    "from sklearn.svm import SVR"
   ]
  },
  {
   "cell_type": "code",
   "execution_count": 114,
   "metadata": {},
   "outputs": [],
   "source": [
    "year = 2003"
   ]
  },
  {
   "cell_type": "code",
   "execution_count": 115,
   "metadata": {},
   "outputs": [],
   "source": [
    "train = XY_data.loc[XY_data.year==(year-2)]\n",
    "train_X = train.iloc[:,2:15]\n",
    "train_Y = train['ret']\n",
    "\n",
    "test = XY_data.loc[XY_data.year==(year-1)]\n",
    "test_X = test.iloc[:,2:15]"
   ]
  },
  {
   "cell_type": "code",
   "execution_count": 116,
   "metadata": {},
   "outputs": [],
   "source": [
    "from sklearn import preprocessing\n",
    "scaler = preprocessing.StandardScaler().fit(train_X)\n",
    "train_X_scale =  scaler.transform(train_X) \n",
    "test_X_scale =  scaler.transform(test_X) "
   ]
  },
  {
   "cell_type": "code",
   "execution_count": 117,
   "metadata": {},
   "outputs": [
    {
     "data": {
      "text/plain": [
       "SVR(C=1.0, cache_size=200, coef0=0.0, degree=3, epsilon=0.2, gamma='scale',\n",
       "  kernel='rbf', max_iter=-1, shrinking=True, tol=0.001, verbose=False)"
      ]
     },
     "execution_count": 117,
     "metadata": {},
     "output_type": "execute_result"
    }
   ],
   "source": [
    "clf = SVR(gamma='scale', C=1.0, epsilon=0.2)\n",
    "clf.fit(train_X_scale, train_Y)"
   ]
  },
  {
   "cell_type": "code",
   "execution_count": 118,
   "metadata": {},
   "outputs": [],
   "source": [
    "test_y_predict = clf.predict(test_X_scale)"
   ]
  },
  {
   "cell_type": "markdown",
   "metadata": {},
   "source": [
    "## 3.  Select the stocks"
   ]
  },
  {
   "cell_type": "code",
   "execution_count": 119,
   "metadata": {},
   "outputs": [],
   "source": [
    "ret_pre = pd.Series(test_y_predict,index=test.CO_ID)"
   ]
  },
  {
   "cell_type": "code",
   "execution_count": 132,
   "metadata": {},
   "outputs": [
    {
     "data": {
      "text/plain": [
       "CO_ID\n",
       "1303       0.468235\n",
       "6245       0.225431\n",
       "5608       0.217726\n",
       "6144       0.143316\n",
       "5533       0.110011\n",
       "dtype: float64"
      ]
     },
     "execution_count": 132,
     "metadata": {},
     "output_type": "execute_result"
    }
   ],
   "source": [
    "ret_pre.head()"
   ]
  },
  {
   "cell_type": "code",
   "execution_count": 120,
   "metadata": {},
   "outputs": [],
   "source": [
    "ret_pre = ret_pre.sort_values(ascending= False)"
   ]
  },
  {
   "cell_type": "code",
   "execution_count": 121,
   "metadata": {},
   "outputs": [],
   "source": [
    "n_sel = 10"
   ]
  },
  {
   "cell_type": "code",
   "execution_count": 122,
   "metadata": {},
   "outputs": [],
   "source": [
    "## select stocks by predicted annual return\n",
    "stks_sel = list(ret_pre.iloc[:n_sel].index)"
   ]
  },
  {
   "cell_type": "code",
   "execution_count": 123,
   "metadata": {},
   "outputs": [],
   "source": [
    "## portfolio return of selected stocks\n",
    "ret_porf = np.mean(test.loc[test.CO_ID.isin(stks_sel)].ret)"
   ]
  },
  {
   "cell_type": "code",
   "execution_count": 124,
   "metadata": {},
   "outputs": [
    {
     "data": {
      "text/plain": [
       "0.8296963174873643"
      ]
     },
     "execution_count": 124,
     "metadata": {},
     "output_type": "execute_result"
    }
   ],
   "source": [
    "ret_porf"
   ]
  },
  {
   "cell_type": "code",
   "execution_count": 125,
   "metadata": {},
   "outputs": [
    {
     "data": {
      "text/plain": [
       "0.4042629732258756"
      ]
     },
     "execution_count": 125,
     "metadata": {},
     "output_type": "execute_result"
    }
   ],
   "source": [
    "## return of total stocks\n",
    "ret_bench =  np.mean(test.ret)\n",
    "ret_bench"
   ]
  },
  {
   "cell_type": "markdown",
   "metadata": {},
   "source": [
    "## 4 select stock every year and calculate the cumulative teturn"
   ]
  },
  {
   "cell_type": "code",
   "execution_count": 140,
   "metadata": {},
   "outputs": [],
   "source": [
    "n_sel=30\n",
    "\n",
    "def get_porfret(year,n_sel = n_sel):\n",
    "    train = XY_data.loc[XY_data.year==(year-2)]\n",
    "    train_X = train.iloc[:,2:15]\n",
    "    train_Y = train['ret']\n",
    "\n",
    "    test = XY_data.loc[XY_data.year==(year-1)]\n",
    "    test_X = test.iloc[:,2:15]\n",
    "    scaler = preprocessing.StandardScaler().fit(train_X)\n",
    "    train_X_scale =  scaler.transform(train_X) \n",
    "    test_X_scale =  scaler.transform(test_X) \n",
    "    clf = SVR(gamma='scale', C=1.0, epsilon=0.2)\n",
    "    clf.fit(train_X_scale, train_Y)\n",
    "    test_y_predict = clf.predict(test_X_scale)\n",
    "    \n",
    "    ret_pre = pd.Series(test_y_predict,index=test.CO_ID)\n",
    "    ret_pre = ret_pre.sort_values(ascending= False)\n",
    "    stks_sel = list(ret_pre.iloc[:n_sel].index)\n",
    "    ret_porf = np.mean(test.loc[test.CO_ID.isin(stks_sel)].ret)\n",
    "    ## return of total stocks\n",
    "    ret_bench =  np.mean(test.ret)\n",
    "    return(np.array([year,ret_porf,ret_bench]))"
   ]
  },
  {
   "cell_type": "code",
   "execution_count": 141,
   "metadata": {},
   "outputs": [],
   "source": [
    "ret_porf_bench_all = list(map(get_porfret,range(2003,2018)))"
   ]
  },
  {
   "cell_type": "code",
   "execution_count": 142,
   "metadata": {},
   "outputs": [],
   "source": [
    "ret_porf_bench_df = pd.DataFrame(np.array(ret_porf_bench_all) )"
   ]
  },
  {
   "cell_type": "code",
   "execution_count": 143,
   "metadata": {},
   "outputs": [],
   "source": [
    "ret_porf_bench_df.columns = ['year','portfolio return','benchmark return']"
   ]
  },
  {
   "cell_type": "code",
   "execution_count": 144,
   "metadata": {},
   "outputs": [],
   "source": [
    "ret_porf_bench_df.index = ret_porf_bench_df.year\n",
    "ret_porf_bench_df['cumlative return_selection']=(1+ret_porf_bench_df['portfolio return']).cumprod()\n",
    "ret_porf_bench_df['cumlative return_benchmark']=(1+ret_porf_bench_df['benchmark return']).cumprod()"
   ]
  },
  {
   "cell_type": "code",
   "execution_count": 145,
   "metadata": {},
   "outputs": [
    {
     "data": {
      "text/plain": [
       "<matplotlib.legend.Legend at 0x1ee158a98d0>"
      ]
     },
     "execution_count": 145,
     "metadata": {},
     "output_type": "execute_result"
    },
    {
     "data": {
      "image/png": "[encoded data removed]",
      "text/plain": [
       "<Figure size 432x288 with 1 Axes>"
      ]
     },
     "metadata": {
      "needs_background": "light"
     },
     "output_type": "display_data"
    }
   ],
   "source": [
    "import matplotlib.pyplot as plt\n",
    "plt.plot(ret_porf_bench_df['cumlative return_selection'],label='cumlative return_selection_%d'%n_sel)\n",
    "plt.plot(ret_porf_bench_df['cumlative return_benchmark'],'black',label='cumlative return_benchmark')\n",
    "plt.legend()\n"
   ]
  }
 ],
 "metadata": {
  "kernelspec": {
   "display_name": "Python 3",
   "language": "python",
   "name": "python3"
  },
  "language_info": {
   "codemirror_mode": {
    "name": "ipython",
    "version": 3
   },
   "file_extension": ".py",
   "mimetype": "text/x-python",
   "name": "python",
   "nbconvert_exporter": "python",
   "pygments_lexer": "ipython3",
   "version": "3.7.3"
  }
 },
 "nbformat": 4,
 "nbformat_minor": 2
}
